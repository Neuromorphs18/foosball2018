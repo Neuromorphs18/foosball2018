{
 "cells": [
  {
   "cell_type": "code",
   "execution_count": 81,
   "metadata": {},
   "outputs": [],
   "source": [
    "import nengo\n",
    "import numpy as np\n",
    "\n",
    "class Player(object):\n",
    "    def __init__(self, x, ys, max_y, color, goal_left):\n",
    "        self.x = x\n",
    "        self.ys = ys\n",
    "        self.max_y = max_y\n",
    "        self.offset = max_y / 2\n",
    "        self.radius = 12\n",
    "        self.max_radius = 30\n",
    "        self.color = color\n",
    "        self.rotate_offset = 0\n",
    "        self.goal_left = goal_left\n",
    "        self.kick_deg = 40\n",
    "        self.velocity = 0\n",
    "        \n",
    "    def slide(self, dt, velocity):\n",
    "        self.offset = np.clip(self.offset + velocity*dt, 0, self.max_y)\n",
    "    \n",
    "    def rotate(self, dt, velocity):\n",
    "        self.velocity = velocity \n",
    "        self.rotate_offset = (self.rotate_offset + self.velocity*dt) % 360\n",
    "        self.rot_off = self.rotate_offset \n",
    "        if (self.rotate_offset > 90 and self.rotate_offset < 180) or (\n",
    "            self.rotate_offset > 270):\n",
    "                self.rot_off = 90 - self.rotate_offset\n",
    "        \n",
    "    def collide(self, x, y):\n",
    "        for player_y in self.ys:\n",
    "            if self.rotate_offset < self.kick_deg or self.rotate_offset > 270 - self.kick_deg:\n",
    "                delta_x = x - self.x\n",
    "                delta_y = y - (player_y + self.offset)\n",
    "                dist = np.sqrt(delta_x**2 + delta_y**2)\n",
    "                if dist < self.radius:\n",
    "                    return delta_x, delta_y\n",
    "        return 0, 0\n",
    "        \n",
    "    def __rx(self):\n",
    "        return self.radius + (self.rot_off % 90)/90 * (self.max_radius - self.radius)\n",
    "      \n",
    "    def __cx_off(self):\n",
    "        return (self.rot_off % 90)/90 * 20 * (int(self.rotate_offset > 180)*2 - 1)\n",
    "        \n",
    "    def __opacity(self):\n",
    "        if self.goal_left and self.rotate_offset > 0 and self.rotate_offset <= 180:\n",
    "            return 0.5 \n",
    "        elif not(self.goal_left) and self.rotate_offset > 180:\n",
    "            return 0.5\n",
    "        return 1 \n",
    "        \n",
    "    def svg(self):\n",
    "        line_width=5\n",
    "        \n",
    "        players = ['<ellipse cx=\"{x}\" cy=\"{y}\" ry=\"{radius}\" rx=\"{angle}\" fill=\"{color}\" fill-opacity=\"{opacity}\"/>'.format(\n",
    "            x=self.x - self.__cx_off(), y=yy+self.offset, radius=self.radius, angle=self.__rx(), color=self.color, opacity=self.__opacity()) for yy in self.ys]\n",
    "        \n",
    "        return '''\n",
    "        <rect x=\"{x0}\" y=\"0\" width=\"{line_width}\" height=\"{height}\" fill=\"silver\"/>\n",
    "        {players}\n",
    "        \n",
    "        '''.format(x0=self.x-line_width/2, players=''.join(players), line_width=line_width, height=self.table.height)\n",
    "\n",
    "class Foosball(object):\n",
    "    def __init__(self, ball_noise=0, seed=None):\n",
    "        self.width = 800\n",
    "        self.height = 400\n",
    "        self.ball_radius = 12\n",
    "        self.ball_noise = ball_noise\n",
    "        self.rng = np.random.RandomState()\n",
    "        \n",
    "        self.score = np.zeros(2)\n",
    "        self.reset_ball()\n",
    "        \n",
    "        self.players = []\n",
    "        \n",
    "    def add_player(self, player):\n",
    "        player.table = self\n",
    "        self.players.append(player)\n",
    "        \n",
    "    def reset_ball(self):\n",
    "        self.ball_pos = np.array([self.width/2, self.height/2])\n",
    "        #self.ball_vel = np.array([-1000, 0])\n",
    "        self.ball_vel = self.rng.uniform(-1000, 1000, 2)\n",
    "        \n",
    "    def step(self, dt, slide):\n",
    "        if self.ball_noise is not None:\n",
    "            self.ball_vel += self.rng.normal(loc=0, scale=self.ball_noise, size=2)\n",
    "            \n",
    "        self.ball_pos += self.ball_vel*dt  \n",
    "        \n",
    "        #if self.ball_pos[0]-self.ball_radius < 0 and self.height/3 < self.ball_pos[1] < 2*self.height/3:\n",
    "        #    self.score[0] += 1\n",
    "        #    self.reset_ball()\n",
    "        #if self.ball_pos[0]+self.ball_radius > self.width and self.height/3 < self.ball_pos[1] < 2*self.height/3:\n",
    "        #    self.score[1] += 1\n",
    "        #    self.reset_ball()\n",
    "        \n",
    "        \n",
    "        if self.ball_pos[0]-self.ball_radius < 0:\n",
    "            self.ball_pos[0] = self.ball_radius\n",
    "            self.ball_vel[0] *= -1\n",
    "        if self.ball_pos[1]-self.ball_radius < 0:\n",
    "            self.ball_pos[1] = self.ball_radius\n",
    "            self.ball_vel[1] *= -1\n",
    "        if self.ball_pos[0]+self.ball_radius > self.width:\n",
    "            self.ball_pos[0] = self.width - self.ball_radius\n",
    "            self.ball_vel[0] *= -1\n",
    "        if self.ball_pos[1]+self.ball_radius > self.height:\n",
    "            self.ball_pos[1] = self.height - self.ball_radius\n",
    "            self.ball_vel[1] *= -1\n",
    "            \n",
    "        for i, p in enumerate(self.players):\n",
    "            p.slide(dt=dt, velocity=slide[i*2])\n",
    "            p.rotate(dt=dt, velocity=slide[i*2+1])\n",
    "            cx, cy = p.collide(self.ball_pos[0], self.ball_pos[1])\n",
    "            self.ball_pos += [cx, cy]\n",
    "            new_v = np.array([cx, cy])\n",
    "            v_norm = np.linalg.norm(new_v)\n",
    "            if v_norm > 0:\n",
    "                mag = np.linalg.norm(self.ball_vel)\n",
    "                self.ball_vel = mag * new_v / v_norm + p.velocity\n",
    "        \n",
    "    def svg(self, prediction=None):\n",
    "        if prediction is None:\n",
    "            pred_path = ''\n",
    "            pred_y = 0\n",
    "        else:\n",
    "            prediction, pred_y = prediction[:-1], prediction[-1]\n",
    "            \n",
    "            pred = prediction.reshape(len(prediction)//2, 2)\n",
    "            pred_path = ''.join(['<circle cx=\"{x}\" cy=\"{y}\" fill=\"white\", r=\"2\" />'.format(x=p[0], y=p[1]) for p in pred])\n",
    "\n",
    "        template = '''<svg width=\"100%\" height=\"100%\" viewbox=\"0 0 {width} {height}\">\n",
    "\n",
    "        <rect x=\"0\" y=\"0\" height=\"{height}\" width=\"{width}\" fill=\"green\"/>\n",
    "        <rect x=\"0\" y=\"{goal_height}\" height=\"{goal_height}\" width=\"10\" fill=\"yellow\"/>\n",
    "        <rect x=\"{goal2width}\" y=\"{goal_height}\" height=\"{goal_height}\" width=\"10\" fill=\"lightblue\"/>\n",
    "        \n",
    "        <rect x=\"100\", y=\"{pred_y_plus}\" height=\"10\" width=\"50\" fill=\"yellow\" />\n",
    "        <rect x=\"100\", y=\"{pred_y_minus}\" height=\"10\" width=\"50\" fill=\"yellow\" />\n",
    "\n",
    "        {players}\n",
    "\n",
    "        <circle cx=\"{bx}\" cy=\"{by}\" fill=\"white\" r=\"{ball_radius}\" />\n",
    "        <text x=\"10\" y=\"100\" style=\"font:bold 80px sans-serif\">{score0}</text>\n",
    "        <text x=\"{score2width}\" y=\"100\" style=\"font:bold 80px sans-serif\">{score1}</text>\n",
    "        \n",
    "        {pred_path}\n",
    "\n",
    "        </svg>'''.format(width=self.width, height=self.height, \n",
    "                         bx=self.ball_pos[0], by=self.ball_pos[1], \n",
    "                         ball_radius=self.ball_radius,\n",
    "                         goal2width=self.width-10,\n",
    "                         score2width=self.width-100,\n",
    "                         score0=int(self.score[0]),\n",
    "                         score1=int(self.score[1]),\n",
    "                         players=''.join([p.svg() for p in self.players]),\n",
    "                         goal_height=self.height/3,\n",
    "                         pred_y_plus=pred_y+100,\n",
    "                         pred_y_minus=pred_y-100,\n",
    "                        pred_path=pred_path)\n",
    "\n",
    "        return template\n",
    "        \n",
    "    def act(self, time, action_vector):\n",
    "        # b = blue, y = yellow, s = slide, r = rotate\n",
    "        # action_vector = [b_s_goalie, b_r_goalie, \n",
    "        # b_s_defenders, b_r_defenders, \n",
    "        # b_s_midfield, b_r_midfield, \n",
    "        # b_s_strikers, b_r_strikers]\n",
    "        # + same for yellows\n",
    "        \n",
    "        self.step(time, action_vector)\n",
    "        \n",
    "        return self.score, self.svg(), np.array([[p.offset, p.rotate_offset] for p in self.players]).flatten()\n",
    "\n",
    "\n",
    "\n"
   ]
  },
  {
   "cell_type": "code",
   "execution_count": 82,
   "metadata": {},
   "outputs": [],
   "source": [
    "def run_once(T, dt, ball_noise=10):\n",
    "    foosball = Foosball(ball_noise=ball_noise)\n",
    "    p = []\n",
    "    v = []\n",
    "    for i in range(int(T/dt)):\n",
    "        foosball.step(dt, [])\n",
    "        p.append(foosball.ball_pos.copy())\n",
    "        v.append(foosball.ball_vel.copy())\n",
    "    return np.array(p), np.array(v)\n",
    "    \n",
    "p, v = run_once(T=10.0, dt=0.01)    \n",
    "    \n",
    "    "
   ]
  },
  {
   "cell_type": "code",
   "execution_count": 83,
   "metadata": {},
   "outputs": [
    {
     "data": {
      "text/plain": [
       "<matplotlib.collections.PathCollection at 0x7f18234647b8>"
      ]
     },
     "execution_count": 83,
     "metadata": {},
     "output_type": "execute_result"
    },
    {
     "data": {
      "image/png": "[encoded data removed]",
      "text/plain": [
       "<Figure size 432x288 with 1 Axes>"
      ]
     },
     "metadata": {},
     "output_type": "display_data"
    }
   ],
   "source": [
    "%matplotlib inline\n",
    "import pylab\n",
    "pylab.scatter(p[:,0], p[:,1])"
   ]
  },
  {
   "cell_type": "code",
   "execution_count": 84,
   "metadata": {},
   "outputs": [],
   "source": [
    "hit_left = np.where(p[:,0]<50, True, False)\n",
    "y = p[hit_left,1]\n",
    "hit_num = np.cumsum(hit_left)\n",
    "valid_hit_num = hit_num[hit_num<len(y)]\n",
    "y_target = y[valid_hit_num]\n"
   ]
  },
  {
   "cell_type": "code",
   "execution_count": 85,
   "metadata": {},
   "outputs": [],
   "source": [
    "def make_data(T=10, dt=0.01, T_future=2, dt_pred=0.1, ball_noise=10, runs=10, skip=1):\n",
    "    inputs = []\n",
    "    outputs = []\n",
    "    \n",
    "    for run in range(runs):\n",
    "        p, v = run_once(T=T, dt=dt, ball_noise=ball_noise)\n",
    "        \n",
    "        hit_left = np.where(p[:,0]<125, True, False)\n",
    "        yshift = p[hit_left,1] > 200\n",
    "        yshiftsgn = -2*yshift.astype('int')+1\n",
    "        #print (yshiftsgn)\n",
    "        y = p[hit_left,1] + yshiftsgn*100\n",
    "        #print (y)\n",
    "            \n",
    "        hit_num = np.cumsum(hit_left)\n",
    "        valid_hit_num = hit_num[hit_num<len(y)]\n",
    "        y_target = y[valid_hit_num]        \n",
    "        \n",
    "        t = np.arange(len(p))*dt\n",
    "        spacing = int(dt_pred/dt)\n",
    "        pred_steps = int(T_future/dt_pred)\n",
    "        offsets = (np.arange(pred_steps)+1)*spacing\n",
    "\n",
    "        for i in range(0,len(t)-offsets[-1], skip):\n",
    "            input = [p[i][0], p[i][1], v[i][0], v[i][1]]\n",
    "            output = p[i+offsets].flatten()\n",
    "            if i < len(y_target):\n",
    "                output = np.hstack([output, y_target[i]])\n",
    "                inputs.append(input)\n",
    "                outputs.append(output)\n",
    "        \n",
    "    return np.array(inputs), np.array(outputs)\n",
    "\n",
    "dt_pred=0.04  # use data points every 40 ms.\n",
    "T_future=1.0\n",
    "inp, outp = make_data(runs=1000, skip=20, dt_pred=dt_pred, T_future=T_future)  # runs was 500, skip was 10\n",
    "\n",
    "    "
   ]
  },
  {
   "cell_type": "code",
   "execution_count": 86,
   "metadata": {},
   "outputs": [],
   "source": [
    "print(outp.shape)"
   ]
  },
  {
   "cell_type": "code",
   "execution_count": 87,
   "metadata": {},
   "outputs": [],
   "source": [
    "inp_mean = np.mean(inp, axis=0)\n",
    "inp_sd = np.std(inp, axis=0)\n",
    "outp_mean = np.mean(outp, axis=0)\n",
    "outp_sd = np.std(outp, axis=0)\n",
    "\n",
    "def inp2inpz(x):\n",
    "    return (x-inp_mean[None,:])/inp_sd[None,:]\n",
    "def outp2outpz(x):\n",
    "    return (x-outp_mean[None,:])/outp_sd[None,:]\n",
    "def inpz2inp(x):\n",
    "    return x*inp_sd[None,:]+inp_mean[None,:]\n",
    "def outpz2outp(x):\n",
    "    return x*outp_sd[None,:]+outp_mean[None,:]\n",
    "\n",
    "inp_z = inp2inpz(inp)\n",
    "outp_z = outp2outpz(outp)"
   ]
  },
  {
   "cell_type": "code",
   "execution_count": 88,
   "metadata": {},
   "outputs": [
    {
     "data": {
      "text/html": [
       "\n",
       "                <div id=\"ef6e20ba-08f8-4188-87f4-e46b4cb6e1b4\" style=\"\n",
       "                    width: 100%;\n",
       "                    border: 1px solid #cfcfcf;\n",
       "                    border-radius: 4px;\n",
       "                    text-align: center;\n",
       "                    position: relative;\">\n",
       "                  <div class=\"pb-text\" style=\"\n",
       "                      position: absolute;\n",
       "                      width: 100%;\">\n",
       "                    0%\n",
       "                  </div>\n",
       "                  <div class=\"pb-fill\" style=\"\n",
       "                      background-color: #bdd2e6;\n",
       "                      width: 0%;\">\n",
       "                    <style type=\"text/css\" scoped=\"scoped\">\n",
       "                        @keyframes pb-fill-anim {\n",
       "                            0% { background-position: 0 0; }\n",
       "                            100% { background-position: 100px 0; }\n",
       "                        }\n",
       "                    </style>\n",
       "                    &nbsp;\n",
       "                  </div>\n",
       "                </div>"
      ],
      "text/plain": [
       "HtmlProgressBar cannot be displayed. Please use the TerminalProgressBar. It can be enabled with `nengo.rc.set('progress', 'progress_bar', 'nengo.utils.progress.TerminalProgressBar')`."
      ]
     },
     "metadata": {},
     "output_type": "display_data"
    },
    {
     "data": {
      "application/javascript": [
       "\n",
       "              (function () {\n",
       "                  var root = document.getElementById('ef6e20ba-08f8-4188-87f4-e46b4cb6e1b4');\n",
       "                  var text = root.getElementsByClassName('pb-text')[0];\n",
       "                  var fill = root.getElementsByClassName('pb-fill')[0];\n",
       "\n",
       "                  text.innerHTML = 'Build finished in 0:00:10.';\n",
       "                  \n",
       "            fill.style.width = '100%';\n",
       "            fill.style.animation = 'pb-fill-anim 2s linear infinite';\n",
       "            fill.style.backgroundSize = '100px 100%';\n",
       "            fill.style.backgroundImage = 'repeating-linear-gradient(' +\n",
       "                '90deg, #bdd2e6, #edf2f8 40%, #bdd2e6 80%, #bdd2e6)';\n",
       "        \n",
       "                  \n",
       "                fill.style.animation = 'none';\n",
       "                fill.style.backgroundImage = 'none';\n",
       "            \n",
       "              })();\n",
       "        "
      ],
      "text/plain": [
       "<IPython.core.display.Javascript object>"
      ]
     },
     "metadata": {},
     "output_type": "display_data"
    }
   ],
   "source": [
    "import nengo\n",
    "model = nengo.Network()\n",
    "with model:\n",
    "    output = nengo.Node(None, size_in=outp.shape[1])\n",
    "    ens = nengo.Ensemble(n_neurons=2000, dimensions=inp.shape[1], neuron_type=nengo.LIFRate(), radius=2, seed=1)\n",
    "    conn = nengo.Connection(ens, output, eval_points=inp_z, function=outp_z, synapse=None, scale_eval_points=False,\n",
    "                            solver=nengo.solvers.LstsqL2(reg=0.00001))\n",
    "sim = nengo.Simulator(model)\n",
    "print(sim.data[conn].solver_info['rmses'])"
   ]
  },
  {
   "cell_type": "code",
   "execution_count": 89,
   "metadata": {},
   "outputs": [],
   "source": [
    "test_inp, test_outp = make_data(runs=10, dt_pred=dt_pred, T_future=T_future)\n",
    "test_inp_z = inp2inpz(test_inp)\n",
    "dec = sim.data[conn].weights\n",
    "_, A = nengo.utils.ensemble.tuning_curves(ens, sim, inputs=test_inp_z)\n",
    "pred_outp = outpz2outp(np.dot(A, dec.T))"
   ]
  },
  {
   "cell_type": "code",
   "execution_count": 90,
   "metadata": {},
   "outputs": [],
   "source": [
    "np.savez('prediction_decoder', dec=dec)"
   ]
  },
  {
   "cell_type": "code",
   "execution_count": 91,
   "metadata": {},
   "outputs": [],
   "source": [
    "error = (pred_outp-test_outp)\n",
    "rmse = np.sqrt(np.mean(error**2, axis=0))"
   ]
  },
  {
   "cell_type": "code",
   "execution_count": 92,
   "metadata": {},
   "outputs": [
    {
     "data": {
      "text/plain": [
       "[<matplotlib.lines.Line2D at 0x7f1816bd1e48>]"
      ]
     },
     "execution_count": 92,
     "metadata": {},
     "output_type": "execute_result"
    },
    {
     "data": {
      "image/png": "[encoded data removed]",
      "text/plain": [
       "<Figure size 432x288 with 1 Axes>"
      ]
     },
     "metadata": {},
     "output_type": "display_data"
    }
   ],
   "source": [
    "pylab.plot(rmse)"
   ]
  },
  {
   "cell_type": "code",
   "execution_count": 95,
   "metadata": {},
   "outputs": [],
   "source": [
    "foosball = Foosball(ball_noise=0)\n",
    "\n",
    "def foosball_node(t, x):\n",
    "    foosball.step(0.001, slide=[])\n",
    "    foosball_node._nengo_html_ = foosball.svg(prediction=outpz2outp([x])[0])\n",
    "    output = np.array([foosball.ball_pos[0], foosball.ball_pos[1], foosball.ball_vel[0], foosball.ball_vel[1]])\n",
    "    return inp2inpz([output])[0]\n",
    "\n",
    "model = nengo.Network()\n",
    "\n",
    "with model:\n",
    "    f = nengo.Node(foosball_node, size_in=outp.shape[1])\n",
    "    model.add(ens)\n",
    "    conn = nengo.Connection(ens.neurons, f, transform=dec, synapse=None)\n",
    "    \n",
    "    #conn = nengo.Connection(ens, f, eval_points=inp_z, function=outp_z, synapse=None, scale_eval_points=False)\n",
    "    nengo.Connection(f, ens, synapse=0)\n",
    "    \n",
    "    "
   ]
  },
  {
   "cell_type": "code",
   "execution_count": 96,
   "metadata": {},
   "outputs": [
    {
     "name": "stderr",
     "output_type": "stream",
     "text": [
      "/home/ubuntu/git/nengo_gui/nengo_gui/ipython.py:63: ConfigReuseWarning: Reusing config. Only the most recent visualization will update the config.\n",
      "  \"Reusing config. Only the most recent visualization will \"\n"
     ]
    },
    {
     "data": {
      "text/html": [
       "\n",
       "                <div id=\"b911a7e1-eaa6-485d-bb06-c002875b6c15\">\n",
       "                    <iframe\n",
       "                        src=\"http://localhost:35665/?token=7001989041b3fc3b113d8771ffe143aa2eeb74858137d50e\"\n",
       "                        width=\"100%\"\n",
       "                        height=\"600\"\n",
       "                        frameborder=\"0\"\n",
       "                        class=\"cell\"\n",
       "                        style=\"border: 1px solid #eee;\"\n",
       "                        allowfullscreen></iframe>\n",
       "                </div>\n",
       "            "
      ],
      "text/plain": [
       "<IPython.core.display.HTML object>"
      ]
     },
     "metadata": {},
     "output_type": "display_data"
    }
   ],
   "source": [
    "import nengo_gui.ipython\n",
    "nengo_gui.ipython.IPythonViz(model, cfg='foosball3.cfg')"
   ]
  },
  {
   "cell_type": "code",
   "execution_count": 13,
   "metadata": {},
   "outputs": [
    {
     "data": {
      "text/plain": [
       "array([1.59247725, 1.57546405, 1.56751226, ..., 2.49480879, 2.47005396,\n",
       "       2.42732832])"
      ]
     },
     "execution_count": 13,
     "metadata": {},
     "output_type": "execute_result"
    }
   ],
   "source": [
    "np.linalg.norm(inp_z, axis=1)"
   ]
  },
  {
   "cell_type": "code",
   "execution_count": 91,
   "metadata": {},
   "outputs": [
    {
     "data": {
      "text/plain": [
       "149.01020460508298"
      ]
     },
     "execution_count": 91,
     "metadata": {},
     "output_type": "execute_result"
    }
   ],
   "source": [
    "inp_mean"
   ]
  },
  {
   "cell_type": "code",
   "execution_count": null,
   "metadata": {
    "collapsed": true
   },
   "outputs": [],
   "source": []
  }
 ],
 "metadata": {
  "kernelspec": {
   "display_name": "Python 3",
   "language": "python",
   "name": "python3"
  },
  "language_info": {
   "codemirror_mode": {
    "name": "ipython",
    "version": 3
   },
   "file_extension": ".py",
   "mimetype": "text/x-python",
   "name": "python",
   "nbconvert_exporter": "python",
   "pygments_lexer": "ipython3",
   "version": "3.6.5"
  }
 },
 "nbformat": 4,
 "nbformat_minor": 2
}

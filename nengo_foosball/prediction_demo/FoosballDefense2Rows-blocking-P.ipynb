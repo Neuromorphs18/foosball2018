{
 "cells": [
  {
   "cell_type": "code",
   "execution_count": 28,
   "metadata": {
    "collapsed": true
   },
   "outputs": [],
   "source": [
    "import nengo\n",
    "import numpy as np\n",
    "\n",
    "class Player(object):\n",
    "    def __init__(self, x, ys, max_y, color, goal_left):\n",
    "        self.x = x\n",
    "        self.ys = ys\n",
    "        self.max_y = max_y\n",
    "        self.offset = max_y / 2\n",
    "        self.radius = 12\n",
    "        self.max_radius = 30\n",
    "        self.color = color\n",
    "        self.rotate_offset = 0\n",
    "        self.goal_left = goal_left\n",
    "        self.kick_deg = 40\n",
    "        self.velocity = 0\n",
    "        \n",
    "    def slide(self, dt, velocity):\n",
    "        self.offset = np.clip(self.offset + velocity*dt, 0, self.max_y)\n",
    "    \n",
    "    def rotate(self, dt, velocity):\n",
    "        self.velocity = velocity \n",
    "        self.rotate_offset = (self.rotate_offset + self.velocity*dt) % 360\n",
    "        self.rot_off = self.rotate_offset \n",
    "        if (self.rotate_offset > 90 and self.rotate_offset < 180) or (\n",
    "            self.rotate_offset > 270):\n",
    "                self.rot_off = 90 - self.rotate_offset\n",
    "        \n",
    "    def collide(self, x, y):\n",
    "        for player_y in self.ys:\n",
    "            if self.rotate_offset < self.kick_deg or self.rotate_offset > 270 - self.kick_deg:\n",
    "                delta_x = x - self.x\n",
    "                delta_y = y - (player_y + self.offset)\n",
    "                dist = np.sqrt(delta_x**2 + delta_y**2)\n",
    "                if dist < self.radius:\n",
    "                    return delta_x, delta_y\n",
    "        return 0, 0\n",
    "        \n",
    "    def __rx(self):\n",
    "        return self.radius + (self.rot_off % 90)/90 * (self.max_radius - self.radius)\n",
    "      \n",
    "    def __cx_off(self):\n",
    "        return (self.rot_off % 90)/90 * 20 * (int(self.rotate_offset > 180)*2 - 1)\n",
    "        \n",
    "    def __opacity(self):\n",
    "        if self.goal_left and self.rotate_offset > 0 and self.rotate_offset <= 180:\n",
    "            return 0.5 \n",
    "        elif not(self.goal_left) and self.rotate_offset > 180:\n",
    "            return 0.5\n",
    "        return 1 \n",
    "        \n",
    "    def svg(self):\n",
    "        line_width=5\n",
    "        \n",
    "        players = ['<ellipse cx=\"{x}\" cy=\"{y}\" ry=\"{radius}\" rx=\"{angle}\" fill=\"{color}\" fill-opacity=\"{opacity}\"/>'.format(\n",
    "            x=self.x - self.__cx_off(), y=yy+self.offset, radius=self.radius, angle=self.__rx(), color=self.color, opacity=self.__opacity()) for yy in self.ys]\n",
    "        \n",
    "        return '''\n",
    "        <rect x=\"{x0}\" y=\"0\" width=\"{line_width}\" height=\"{height}\" fill=\"silver\"/>\n",
    "        {players}\n",
    "        \n",
    "        '''.format(x0=self.x-line_width/2, players=''.join(players), line_width=line_width, height=self.table.height)\n",
    "\n",
    "class Foosball(object):\n",
    "    def __init__(self, ball_noise=0, seed=None):\n",
    "        self.width = 800\n",
    "        self.height = 400\n",
    "        self.ball_radius = 12\n",
    "        self.ball_noise = ball_noise\n",
    "        self.rng = np.random.RandomState()\n",
    "        \n",
    "        self.score = np.zeros(2)\n",
    "        self.reset_ball()\n",
    "        \n",
    "        self.players = []\n",
    "        \n",
    "    def add_player(self, player):\n",
    "        player.table = self\n",
    "        self.players.append(player)\n",
    "        \n",
    "    def reset_ball(self):\n",
    "        self.ball_pos = np.array([self.width/2, self.height/2]).astype(float)\n",
    "        #self.ball_vel = np.array([-1000, 0])\n",
    "        self.ball_vel = self.rng.uniform(-1000, 1000, 2).astype(float)\n",
    "        \n",
    "    def step(self, dt, slide):\n",
    "        if self.ball_noise is not None:\n",
    "            self.ball_vel += self.rng.normal(loc=0, scale=self.ball_noise, size=2)\n",
    "            \n",
    "        self.ball_pos += self.ball_vel*dt  \n",
    "        \n",
    "        #if self.ball_pos[0]-self.ball_radius < 0 and self.height/3 < self.ball_pos[1] < 2*self.height/3:\n",
    "        #    self.score[0] += 1\n",
    "        #    self.reset_ball()\n",
    "        #if self.ball_pos[0]+self.ball_radius > self.width and self.height/3 < self.ball_pos[1] < 2*self.height/3:\n",
    "        #    self.score[1] += 1\n",
    "        #    self.reset_ball()\n",
    "        \n",
    "        \n",
    "        if self.ball_pos[0]-self.ball_radius < 0:\n",
    "            self.ball_pos[0] = self.ball_radius\n",
    "            self.ball_vel[0] *= -1\n",
    "        if self.ball_pos[1]-self.ball_radius < 0:\n",
    "            self.ball_pos[1] = self.ball_radius\n",
    "            self.ball_vel[1] *= -1\n",
    "        if self.ball_pos[0]+self.ball_radius > self.width:\n",
    "            self.ball_pos[0] = self.width - self.ball_radius\n",
    "            self.ball_vel[0] *= -1\n",
    "        if self.ball_pos[1]+self.ball_radius > self.height:\n",
    "            self.ball_pos[1] = self.height - self.ball_radius\n",
    "            self.ball_vel[1] *= -1\n",
    "            \n",
    "        for i, p in enumerate(self.players):\n",
    "            p.slide(dt=dt, velocity=slide[i*2])\n",
    "            p.rotate(dt=dt, velocity=slide[i*2+1])\n",
    "            cx, cy = p.collide(self.ball_pos[0], self.ball_pos[1])\n",
    "            self.ball_pos += [cx, cy]\n",
    "            new_v = np.array([cx, cy])\n",
    "            v_norm = np.linalg.norm(new_v)\n",
    "            if v_norm > 0:\n",
    "                mag = np.linalg.norm(self.ball_vel)\n",
    "                self.ball_vel = mag * new_v / v_norm + p.velocity\n",
    "        \n",
    "    def svg(self, prediction=None):\n",
    "    \n",
    "        if prediction is None:\n",
    "            pred_def_y = 200\n",
    "            pred_goalie_y = 200\n",
    "            pred_path = ''\n",
    "        else:\n",
    "            prediction, pred_goalie_y, pred_def_y = prediction[:-2], prediction[-2],prediction[-1]\n",
    "            \n",
    "            pred = prediction.reshape(len(prediction)//2, 2)\n",
    "            pred_path = ''.join(['<circle cx=\"{x}\" cy=\"{y}\" fill=\"white\", r=\"2\" />'.format(x=p[0], y=p[1]) for p in pred])            \n",
    "            \n",
    "        template = '''<svg width=\"100%\" height=\"100%\" viewbox=\"0 0 {width} {height}\">\n",
    "\n",
    "        <rect x=\"0\" y=\"0\" height=\"{height}\" width=\"{width}\" fill=\"green\"/>\n",
    "        <rect x=\"0\" y=\"{goal_height}\" height=\"{goal_height}\" width=\"10\" fill=\"yellow\"/>\n",
    "        <rect x=\"{goal2width}\" y=\"{goal_height}\" height=\"{goal_height}\" width=\"10\" fill=\"lightblue\"/>\n",
    "        \n",
    "        <rect x=\"40\", y=\"{pred_goalie_y}\" height=\"20\" width=\"20\" fill=\"yellow\"/>\n",
    "        <rect x=\"140\", y=\"{pred_def_y_plus}\" height=\"20\" width=\"20\" fill=\"yellow\" />  \n",
    "        <rect x=\"140\", y=\"{pred_def_y_minus}\" height=\"20\" width=\"20\" fill=\"yellow\" />\n",
    "\n",
    "        {players}\n",
    "\n",
    "        <circle cx=\"{bx}\" cy=\"{by}\" fill=\"white\" r=\"{ball_radius}\" />\n",
    "        <text x=\"10\" y=\"100\" style=\"font:bold 80px sans-serif\">{score0}</text>\n",
    "        <text x=\"{score2width}\" y=\"100\" style=\"font:bold 80px sans-serif\">{score1}</text>\n",
    "\n",
    "        {pred_path}\n",
    "\n",
    "        </svg>'''.format(width=self.width, height=self.height, \n",
    "                         bx=self.ball_pos[0], by=self.ball_pos[1], \n",
    "                         ball_radius=self.ball_radius,\n",
    "                         goal2width=self.width-10,\n",
    "                         score2width=self.width-100,\n",
    "                         score0=int(self.score[0]),\n",
    "                         score1=int(self.score[1]),\n",
    "                         players=''.join([p.svg() for p in self.players]),\n",
    "                         goal_height=self.height/3,\n",
    "                         pred_def_y_plus=pred_def_y+100-10,\n",
    "                         pred_def_y_minus=pred_def_y-100-10,\n",
    "                         pred_path=pred_path,\n",
    "                         pred_goalie_y=pred_goalie_y)\n",
    "\n",
    "        return template\n",
    "\n",
    "\n"
   ]
  },
  {
   "cell_type": "code",
   "execution_count": 29,
   "metadata": {
    "collapsed": false
   },
   "outputs": [],
   "source": [
    "npzfile = np.load('prediction_decoder.npz')   # load up the goalie decoder\n",
    "dec = npzfile['dec']\n",
    "npzfile2 = np.load('prediction_decoder_2ndRow.npz')\n",
    "dec2 = npzfile2['dec2']\n"
   ]
  },
  {
   "cell_type": "code",
   "execution_count": 30,
   "metadata": {
    "collapsed": false
   },
   "outputs": [],
   "source": [
    "dec3 = np.zeros((52, 2000))\n",
    "dec3[:50,:] = dec[:50,:]\n",
    "dec3[50,:] = dec[-1,:]\n",
    "dec3[51,:] = dec2[-1,:]\n",
    "\n",
    "inp_mean = npzfile['inp_mean']\n",
    "inp_sd = npzfile['inp_sd']\n",
    "outp_mean = np.hstack([npzfile['outp_mean'], npzfile2['outp_mean'][-1:]])\n",
    "outp_sd = np.hstack([npzfile['outp_sd'], npzfile2['outp_sd'][-1:]])\n",
    "\n"
   ]
  },
  {
   "cell_type": "code",
   "execution_count": 31,
   "metadata": {
    "collapsed": true
   },
   "outputs": [],
   "source": [
    "def inp2inpz(x):\n",
    "    return (x-inp_mean[None,:])/inp_sd[None,:]\n",
    "def outp2outpz(x):\n",
    "    return (x-outp_mean[None,:])/outp_sd[None,:]\n",
    "def inpz2inp(x):\n",
    "    return x*inp_sd[None,:]+inp_mean[None,:]\n",
    "def outpz2outp(x):\n",
    "    return x*outp_sd[None,:]+outp_mean[None,:]"
   ]
  },
  {
   "cell_type": "code",
   "execution_count": 36,
   "metadata": {
    "collapsed": false
   },
   "outputs": [],
   "source": [
    "foosball = Foosball(ball_noise=1.0)\n",
    "\n",
    "\n",
    "foosball.add_player(Player(x=50, \n",
    "                           ys=[foosball.height/3], \n",
    "                           max_y=foosball.height/3,\n",
    "                           color=\"blue\", goal_left=False))\n",
    "foosball.add_player(Player(x=150, \n",
    "                           ys=[0, foosball.height/2], \n",
    "                           max_y=foosball.height/2,\n",
    "                           color=\"blue\", goal_left=False))\n",
    "\n",
    "\n",
    "def foosball_node(t, x):\n",
    "    prediction = outpz2outp(x[:-2])[0]\n",
    "    \n",
    "    #Kp = 20.0\n",
    "    #target_goalie = prediction[-2]\n",
    "    #actual_goalie = foosball.players[0].offset + foosball.players[0].ys[0]    \n",
    "    #move_goalie = Kp*(target_goalie-actual_goalie)\n",
    "    move_goalie = x[-2]\n",
    "    \n",
    "    #Kp = 20.0\n",
    "    #target_def = prediction[-1]\n",
    "    #actual_def = foosball.players[1].offset + np.mean(foosball.players[0].ys)    \n",
    "    #move_def = Kp*(target_def-actual_def)\n",
    "    move_def = x[-1]\n",
    "    \n",
    "    \n",
    "    foosball.step(0.001, slide=[move_goalie,0,move_def,0])\n",
    "    foosball_node._nengo_html_ = foosball.svg(prediction)\n",
    "    ball_output = np.array([foosball.ball_pos[0], foosball.ball_pos[1], foosball.ball_vel[0], foosball.ball_vel[1]])    \n",
    "    ball_output = inp2inpz([ball_output])[0]\n",
    "    pos_output = np.array([p.offset+np.mean(p.ys) for p in foosball.players])\n",
    "    pos_output = (pos_output-inp_mean[1])/inp_sd[1]\n",
    "    \n",
    "    return np.hstack([ball_output, pos_output])\n",
    "\n",
    "model = nengo.Network()\n",
    "\n",
    "with model:\n",
    "    f = nengo.Node(foosball_node, size_in=dec3.shape[0]+2)\n",
    "    ens = nengo.Ensemble(n_neurons=2000, dimensions=4, neuron_type=nengo.LIFRate(), radius=2, seed=1)\n",
    "    conn = nengo.Connection(ens.neurons, f[:-2], transform=dec3, synapse=None)\n",
    "    \n",
    "    nengo.Connection(f[:4], ens, synapse=0)\n",
    "    \n",
    "    \n",
    "    Kp = 2000\n",
    "    error_goalie = nengo.Ensemble(n_neurons=100, dimensions=1)\n",
    "    nengo.Connection(ens.neurons, error_goalie, transform=dec3[-2:-1,:])\n",
    "    nengo.Connection(f[4], error_goalie, transform=-1)\n",
    "    nengo.Connection(error_goalie, f[-2], transform=Kp)\n",
    "\n",
    "    error_def = nengo.Ensemble(n_neurons=100, dimensions=1)\n",
    "    nengo.Connection(ens.neurons, error_def, transform=dec3[-1:,:])\n",
    "    nengo.Connection(f[5], error_def, transform=-1)\n",
    "    nengo.Connection(error_def, f[-1], transform=Kp)\n",
    "    "
   ]
  },
  {
   "cell_type": "code",
   "execution_count": 37,
   "metadata": {
    "collapsed": false
   },
   "outputs": [
    {
     "data": {
      "text/html": [
       "\n",
       "                <div id=\"98f5cf0b-0811-428f-938f-0c17b5f157e9\">\n",
       "                    <iframe\n",
       "                        src=\"http://localhost:52921/?token=f15ab8e494ea596f30b285e22f75a88badef51dc0b1142a7\"\n",
       "                        width=\"100%\"\n",
       "                        height=\"600\"\n",
       "                        frameborder=\"0\"\n",
       "                        class=\"cell\"\n",
       "                        style=\"border: 1px solid #eee;\"\n",
       "                        allowfullscreen></iframe>\n",
       "                </div>\n",
       "            "
      ],
      "text/plain": [
       "<IPython.core.display.HTML object>"
      ]
     },
     "metadata": {},
     "output_type": "display_data"
    }
   ],
   "source": [
    "import nengo_gui.ipython\n",
    "nengo_gui.ipython.IPythonViz(model, cfg='foosball3.cfg')"
   ]
  },
  {
   "cell_type": "code",
   "execution_count": 19,
   "metadata": {
    "collapsed": false
   },
   "outputs": [
    {
     "data": {
      "text/plain": [
       "array([1.43079305, 2.15824439, 1.79892885, ..., 3.14725646, 3.07535808,\n",
       "       3.13375896])"
      ]
     },
     "execution_count": 19,
     "metadata": {},
     "output_type": "execute_result"
    }
   ],
   "source": [
    "np.linalg.norm(inp_z, axis=1)"
   ]
  },
  {
   "cell_type": "code",
   "execution_count": 91,
   "metadata": {
    "collapsed": false
   },
   "outputs": [
    {
     "data": {
      "text/plain": [
       "149.01020460508298"
      ]
     },
     "execution_count": 91,
     "metadata": {},
     "output_type": "execute_result"
    }
   ],
   "source": [
    "inp_mean"
   ]
  },
  {
   "cell_type": "code",
   "execution_count": null,
   "metadata": {
    "collapsed": true
   },
   "outputs": [],
   "source": []
  }
 ],
 "metadata": {
  "kernelspec": {
   "display_name": "Python 2",
   "language": "python",
   "name": "python2"
  },
  "language_info": {
   "codemirror_mode": {
    "name": "ipython",
    "version": 2
   },
   "file_extension": ".py",
   "mimetype": "text/x-python",
   "name": "python",
   "nbconvert_exporter": "python",
   "pygments_lexer": "ipython2",
   "version": "2.7.5"
  }
 },
 "nbformat": 4,
 "nbformat_minor": 2
}
